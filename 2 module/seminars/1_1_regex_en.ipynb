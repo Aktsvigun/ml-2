{
  "nbformat": 4,
  "nbformat_minor": 0,
  "metadata": {
    "colab": {
      "provenance": []
    },
    "kernelspec": {
      "display_name": "Python 3 (ipykernel)",
      "language": "python",
      "name": "python3"
    },
    "language_info": {
      "codemirror_mode": {
        "name": "ipython",
        "version": 3
      },
      "file_extension": ".py",
      "mimetype": "text/x-python",
      "name": "python",
      "nbconvert_exporter": "python",
      "pygments_lexer": "ipython3",
      "version": "3.8.6"
    }
  },
  "cells": [
    {
      "cell_type": "markdown",
      "metadata": {
        "id": "AS1JcenRNX9N"
      },
      "source": [
        "<h1><center>Regular expressions</center></h1>\n",
        "\n",
        "\n",
        "\n",
        "**Regular expression** _\\(RegExp\\)_ — is the specific, standard textual syntax for representing patterns for matching substrings in the text. In other words, it is a sequence of characters that specifies a pattern to search / replace with something those pieces of text that match with it."
      ]
    },
    {
      "cell_type": "markdown",
      "metadata": {
        "id": "Y1Zsrika_iuw"
      },
      "source": [
        "**Useful materials:** https://habr.com/ru/post/115825/ and https://habr.com/ru/post/115436/"
      ]
    },
    {
      "cell_type": "markdown",
      "metadata": {
        "id": "f9iyKY-SPb7Q"
      },
      "source": [
        "![rexexp](https://imgs.xkcd.com/comics/regular_expressions.png)"
      ]
    },
    {
      "cell_type": "markdown",
      "metadata": {
        "id": "r5-d2O1RNX9P"
      },
      "source": [
        "Python has a built-in package called `re`, which can be used to work with Regular Expressions. (you may read the docs [here](https://docs.python.org/3/library/re.html)). First, we need to import it, as any other library. Here are listed the most common methods of this library:\n",
        "\n",
        "* re.match()\n",
        "* re.search()\n",
        "* re.findall()\n",
        "* re.sub()\n",
        "* re.compile()\n",
        "\n",
        "### re.match()\n",
        "\n",
        "This methods checks for a match **only at the beginning of the string**. For instance, if we apply the following pattern 'the' on the text \"the cat is on the mat\" with the `match()` method, we will find the first occurence of \"the\" and the program will end successfully. However, if we are looking for the pattern \"cat\", the result would be empty. \n",
        "\n",
        "`re.match()` accepts two arguments:\n",
        "\n",
        "* pattern (what are we looking for?)\n",
        "* string (where we want to search for it?)"
      ]
    },
    {
      "cell_type": "code",
      "metadata": {
        "id": "8aj_zUCa1CDl"
      },
      "source": [
        "import re\n",
        "\n",
        "re.match(\"[cmf]an\", \"dan\")"
      ],
      "execution_count": null,
      "outputs": []
    },
    {
      "cell_type": "code",
      "metadata": {
        "id": "pqwQQMaH31TK"
      },
      "source": [
        "re.match(\"[^cmf]an\", \"fan\")"
      ],
      "execution_count": null,
      "outputs": []
    },
    {
      "cell_type": "code",
      "metadata": {
        "colab": {
          "base_uri": "https://localhost:8080/"
        },
        "id": "Nn6Oc7G33h3S",
        "outputId": "32e3099d-7fdc-4f0a-95a9-2f56776c2575"
      },
      "source": [
        "re.match(\"(c|m|f)an\", \"man\")"
      ],
      "execution_count": null,
      "outputs": [
        {
          "output_type": "execute_result",
          "data": {
            "text/plain": [
              "<re.Match object; span=(0, 3), match='man'>"
            ]
          },
          "metadata": {},
          "execution_count": 21
        }
      ]
    },
    {
      "cell_type": "code",
      "metadata": {
        "colab": {
          "base_uri": "https://localhost:8080/"
        },
        "id": "V1MlPvUZNX9Q",
        "outputId": "de31b456-3a25-4c6f-9dbe-4e8a0a9a096f"
      },
      "source": [
        "import re\n",
        "\n",
        "re.match('the', 'the cat is on the mat')"
      ],
      "execution_count": null,
      "outputs": [
        {
          "output_type": "execute_result",
          "data": {
            "text/plain": [
              "<re.Match object; span=(0, 3), match='the'>"
            ]
          },
          "metadata": {},
          "execution_count": 1
        }
      ]
    },
    {
      "cell_type": "code",
      "metadata": {
        "colab": {
          "base_uri": "https://localhost:8080/"
        },
        "id": "GntMM8j6NX9X",
        "outputId": "f3d913b1-ff6d-460b-a203-489847d23289"
      },
      "source": [
        "print(re.match('cat', 'the cat is on the mat'))"
      ],
      "execution_count": null,
      "outputs": [
        {
          "output_type": "stream",
          "text": [
            "None\n"
          ],
          "name": "stdout"
        }
      ]
    },
    {
      "cell_type": "markdown",
      "metadata": {
        "id": "-VN5P0doPb7d"
      },
      "source": [
        "\"cat\" is the precise pattern, now let us try to search with general patterns, so we need set ranges for that:\n",
        "\n",
        "* **\\[A-Z\\]** — will match _any single_ uppercase letter \\(latin script\\)\n",
        "* **\\[a-z\\]** — will match _any single_ lowercase letter \\(latin script\\)\n",
        "* **\\[А-Я\\]** — will match _any single_ uppercase letter \\(cyrillic script\\)\n",
        "* **\\[а-я\\]** — will match _any single_ lowercase letter \\(cyrillic script\\)\n",
        "* **\\[0-9\\]** or **\\d** — one digit\n",
        "\n",
        "^ Matches a single character that is not contained within the brackets:\n",
        "* **\\[^0-9\\]** or **\\D** — _any single_ character apart from digit\n",
        "\n",
        "Wildcard **.** (dot) — matches any single character."
      ]
    },
    {
      "cell_type": "code",
      "metadata": {
        "colab": {
          "base_uri": "https://localhost:8080/"
        },
        "id": "QAgakfURPb7h",
        "outputId": "c4835aea-ad39-4389-edb4-327c2bc0e93f"
      },
      "source": [
        "re.match('[a-z]', 'the cat is on the mat')"
      ],
      "execution_count": null,
      "outputs": [
        {
          "output_type": "execute_result",
          "data": {
            "text/plain": [
              "<re.Match object; span=(0, 1), match='t'>"
            ]
          },
          "metadata": {},
          "execution_count": 24
        }
      ]
    },
    {
      "cell_type": "code",
      "metadata": {
        "id": "9f9TXn_JPb7m"
      },
      "source": [
        "re.match('[0-9]', 'the cat is on the mat')"
      ],
      "execution_count": null,
      "outputs": []
    },
    {
      "cell_type": "code",
      "metadata": {
        "colab": {
          "base_uri": "https://localhost:8080/"
        },
        "id": "kYQxLQi0Pb7p",
        "outputId": "aced4924-0216-44a9-8ee7-3c5de35d6302"
      },
      "source": [
        "re.match('.', 'the cat is on the mat')"
      ],
      "execution_count": null,
      "outputs": [
        {
          "output_type": "execute_result",
          "data": {
            "text/plain": [
              "<re.Match object; span=(0, 1), match='t'>"
            ]
          },
          "metadata": {},
          "execution_count": 26
        }
      ]
    },
    {
      "cell_type": "code",
      "metadata": {
        "colab": {
          "base_uri": "https://localhost:8080/"
        },
        "id": "llKpwosMPb7u",
        "outputId": "685e98aa-b853-4fca-cc46-b95ef5498d1a"
      },
      "source": [
        "re.match('.', ' the cat is on the mat')"
      ],
      "execution_count": null,
      "outputs": [
        {
          "output_type": "execute_result",
          "data": {
            "text/plain": [
              "<re.Match object; span=(0, 1), match=' '>"
            ]
          },
          "metadata": {},
          "execution_count": 27
        }
      ]
    },
    {
      "cell_type": "markdown",
      "metadata": {
        "id": "8Npt6rikPb7v"
      },
      "source": [
        "Set ranges can be combined:\n",
        "\n",
        "* **\\[A-Za-z\\]** — _any single_ uppercase and lowercase letter \\(latin script\\)\n",
        "* **\\[A-Za-z0-9\\]** — _any single_ uppercase and lowercase letter \\(latin script\\) or digit\n",
        "* **\\[A-Za-z0-9\\_\\]** или **\\w** — _any single_ uppercase and lowercase letter \\(latin script\\) or digit or \\_\n",
        "* **\\[^A-Za-z0-9\\_\\]** или **\\W** — anything except uppercase and lowercase letters \\(latin script\\), digits and \\_\n",
        "\n",
        "* You may choose any range from the [unicode table](https://unicode-table.com/ru/) like, for example, **[à-ÿ]** "
      ]
    },
    {
      "cell_type": "code",
      "metadata": {
        "colab": {
          "base_uri": "https://localhost:8080/"
        },
        "id": "t4pNXUsTPb7w",
        "outputId": "84b07a6e-b781-4c1b-fbed-4b33a1f68649"
      },
      "source": [
        "re.match('[A-Za-z]', 'Uppercase letters'), re.match('[A-Za-z]', 'no uppercase letters')"
      ],
      "execution_count": null,
      "outputs": [
        {
          "output_type": "execute_result",
          "data": {
            "text/plain": [
              "(<re.Match object; span=(0, 1), match='U'>,\n",
              " <re.Match object; span=(0, 1), match='n'>)"
            ]
          },
          "metadata": {},
          "execution_count": 28
        }
      ]
    },
    {
      "cell_type": "code",
      "metadata": {
        "colab": {
          "base_uri": "https://localhost:8080/"
        },
        "id": "6ZhVzTDt4vtI",
        "outputId": "214ef10e-a765-4404-f557-1a4aa29bd150"
      },
      "source": [
        "re.match('[A-z]', 'Uppercase letters')"
      ],
      "execution_count": null,
      "outputs": [
        {
          "output_type": "execute_result",
          "data": {
            "text/plain": [
              "<re.Match object; span=(0, 1), match='U'>"
            ]
          },
          "metadata": {},
          "execution_count": 29
        }
      ]
    },
    {
      "cell_type": "code",
      "metadata": {
        "colab": {
          "base_uri": "https://localhost:8080/"
        },
        "id": "TX80rCi647W8",
        "outputId": "66eed54f-1384-4ca7-85b9-296de3f52226"
      },
      "source": [
        "re.match('[А-яЁё]', 'ёжик')"
      ],
      "execution_count": null,
      "outputs": [
        {
          "output_type": "execute_result",
          "data": {
            "text/plain": [
              "<re.Match object; span=(0, 1), match='ё'>"
            ]
          },
          "metadata": {},
          "execution_count": 32
        }
      ]
    },
    {
      "cell_type": "markdown",
      "metadata": {
        "id": "Oa0utnSyNX9a"
      },
      "source": [
        "### re.search()\n",
        "\n",
        "While previous method checks for a match only at the beginning of the string, `re.search()` checks for a match anywhere in the string, however, it returns only the first occurence of the patter. Arguments of this method are the same `re.search(pattern, string)`."
      ]
    },
    {
      "cell_type": "code",
      "metadata": {
        "colab": {
          "base_uri": "https://localhost:8080/"
        },
        "id": "Y22ZKbHPNX9b",
        "outputId": "af1e1a70-d75a-4ac9-aacf-e259635a6350"
      },
      "source": [
        "re.search('the', 'the cat is on the mat')"
      ],
      "execution_count": null,
      "outputs": [
        {
          "output_type": "execute_result",
          "data": {
            "text/plain": [
              "<re.Match object; span=(0, 3), match='the'>"
            ]
          },
          "metadata": {},
          "execution_count": 8
        }
      ]
    },
    {
      "cell_type": "code",
      "metadata": {
        "colab": {
          "base_uri": "https://localhost:8080/"
        },
        "id": "zX55Bm2JNX9f",
        "outputId": "2bc1060c-8d2d-444d-dd41-7f0c51c2714d"
      },
      "source": [
        "re.search('cat', 'the cat is on the mat')"
      ],
      "execution_count": null,
      "outputs": [
        {
          "output_type": "execute_result",
          "data": {
            "text/plain": [
              "<re.Match object; span=(4, 7), match='cat'>"
            ]
          },
          "metadata": {},
          "execution_count": 9
        }
      ]
    },
    {
      "cell_type": "markdown",
      "metadata": {
        "id": "SOAqcU5iNX9j"
      },
      "source": [
        "How can we return not the matched object, but the string itself?"
      ]
    },
    {
      "cell_type": "code",
      "metadata": {
        "colab": {
          "base_uri": "https://localhost:8080/",
          "height": 35
        },
        "id": "b_H3J21HNX9x",
        "outputId": "5d49008a-f730-465d-c642-ea7f3208a584"
      },
      "source": [
        "re.search('cat', 'the cat is on the mat').group(0)"
      ],
      "execution_count": null,
      "outputs": [
        {
          "output_type": "execute_result",
          "data": {
            "application/vnd.google.colaboratory.intrinsic+json": {
              "type": "string"
            },
            "text/plain": [
              "'cat'"
            ]
          },
          "metadata": {},
          "execution_count": 10
        }
      ]
    },
    {
      "cell_type": "code",
      "metadata": {
        "colab": {
          "base_uri": "https://localhost:8080/",
          "height": 35
        },
        "id": "KGGxF-FqPb75",
        "outputId": "4012ff39-4539-4b52-c0ec-52c467085a31"
      },
      "source": [
        "re.search('[A-Za-z][A-Za-z][A-Za-z]', 'The cat is on the mat')[0]"
      ],
      "execution_count": null,
      "outputs": [
        {
          "output_type": "execute_result",
          "data": {
            "application/vnd.google.colaboratory.intrinsic+json": {
              "type": "string"
            },
            "text/plain": [
              "'The'"
            ]
          },
          "metadata": {},
          "execution_count": 11
        }
      ]
    },
    {
      "cell_type": "code",
      "metadata": {
        "colab": {
          "base_uri": "https://localhost:8080/"
        },
        "id": "2F8KpUtr5ln8",
        "outputId": "ebf0bc7a-2aa4-4958-b71f-5cc5a4a701c0"
      },
      "source": [
        "re.match(\"waz{,5}up\", 'wazzzup')"
      ],
      "execution_count": null,
      "outputs": [
        {
          "output_type": "execute_result",
          "data": {
            "text/plain": [
              "<re.Match object; span=(0, 7), match='wazzzup'>"
            ]
          },
          "metadata": {},
          "execution_count": 34
        }
      ]
    },
    {
      "cell_type": "markdown",
      "metadata": {
        "id": "X43drYg4NX90"
      },
      "source": [
        "### re.findall()\n",
        "\n",
        "Return **all** non-overlapping matches of pattern in string, as a list of strings or tuples. The string is scanned left-to-right, and matches are returned in the order found. Empty matches are included in the result. Returns a list of all matches."
      ]
    },
    {
      "cell_type": "code",
      "metadata": {
        "colab": {
          "base_uri": "https://localhost:8080/"
        },
        "id": "Nsrm_qxXNX91",
        "outputId": "7d8ed71d-cd45-41d6-b7ac-89c807e7428e"
      },
      "source": [
        "re.findall('the', 'the cat is on the mat')"
      ],
      "execution_count": null,
      "outputs": [
        {
          "output_type": "execute_result",
          "data": {
            "text/plain": [
              "['the', 'the']"
            ]
          },
          "metadata": {},
          "execution_count": 12
        }
      ]
    },
    {
      "cell_type": "code",
      "metadata": {
        "colab": {
          "base_uri": "https://localhost:8080/",
          "height": 35
        },
        "id": "TJNtdkmyNX93",
        "outputId": "d282cd63-8249-48f5-c9fd-449519d3bac6"
      },
      "source": [
        "re.findall('the', 'the cat is on the mat')[1]"
      ],
      "execution_count": null,
      "outputs": [
        {
          "output_type": "execute_result",
          "data": {
            "application/vnd.google.colaboratory.intrinsic+json": {
              "type": "string"
            },
            "text/plain": [
              "'the'"
            ]
          },
          "metadata": {},
          "execution_count": 13
        }
      ]
    },
    {
      "cell_type": "code",
      "metadata": {
        "colab": {
          "base_uri": "https://localhost:8080/"
        },
        "id": "ea5wu0RO6Zpw",
        "outputId": "2c5c1ebe-b653-4325-c92a-87ba1a92e8d1"
      },
      "source": [
        "re.match(\"a+b*c+\", 'aabbbbc')"
      ],
      "execution_count": null,
      "outputs": [
        {
          "output_type": "execute_result",
          "data": {
            "text/plain": [
              "<re.Match object; span=(0, 7), match='aabbbbc'>"
            ]
          },
          "metadata": {},
          "execution_count": 36
        }
      ]
    },
    {
      "cell_type": "markdown",
      "metadata": {
        "id": "ti3xp85IPb78"
      },
      "source": [
        "Another important feature that can be used in patterns, is quantification. We can define the desired length of characters we search in the pattern:\n",
        "\n",
        "###### Quantifiers\n",
        "\n",
        "* **?** — question mark indicates _zero or one_ occurrences of the preceding character/group\n",
        "* **\\*** — asterisk indicates _zero or more_ occurrences of the preceding character/group\n",
        "* **+** — plus indicates _one or more_ occurrences of the preceding character/group\n",
        "* **{n}** — preceding character/group is matched exactly _n times_\n",
        "* **{n,}** — preceding character/group is matched _n or more times_\n",
        "* **{,m**} — preceding character/group is matched _up to m times_\n",
        "* **{n,m}** — preceding item is matched _at least n times, but not more than m times_\n",
        "\n",
        "\n",
        "**NB!** Quantifiers __.__ __\\\\__ __\\*__ __+__ etc. do not work inside \\[ \\]"
      ]
    },
    {
      "cell_type": "code",
      "metadata": {
        "colab": {
          "base_uri": "https://localhost:8080/"
        },
        "id": "gKoyA_IjPb78",
        "outputId": "a716dc48-c853-46d3-ea31-306e6e97010e"
      },
      "source": [
        "re.findall('[a-z]+', 'the cat is on the mat')"
      ],
      "execution_count": null,
      "outputs": [
        {
          "output_type": "execute_result",
          "data": {
            "text/plain": [
              "['the', 'cat', 'is', 'on', 'the', 'mat']"
            ]
          },
          "metadata": {},
          "execution_count": 37
        }
      ]
    },
    {
      "cell_type": "code",
      "metadata": {
        "colab": {
          "base_uri": "https://localhost:8080/"
        },
        "id": "UNOvU6RNPb7-",
        "collapsed": true,
        "outputId": "65f92e5a-2135-43b3-8bff-272c29ab378c"
      },
      "source": [
        "re.findall('[a-z]{3}', 'the cat is on the mat')"
      ],
      "execution_count": null,
      "outputs": [
        {
          "output_type": "execute_result",
          "data": {
            "text/plain": [
              "['the', 'cat', 'the', 'mat']"
            ]
          },
          "metadata": {},
          "execution_count": 38
        }
      ]
    },
    {
      "cell_type": "code",
      "metadata": {
        "colab": {
          "base_uri": "https://localhost:8080/"
        },
        "id": "IoHBoXAlPb7-",
        "outputId": "f5e2849a-e01a-4514-94fc-7be10e6f8798"
      },
      "source": [
        "re.findall('[a-z]*', 'the cat is on the mat')"
      ],
      "execution_count": null,
      "outputs": [
        {
          "output_type": "execute_result",
          "data": {
            "text/plain": [
              "['the', '', 'cat', '', 'is', '', 'on', '', 'the', '', 'mat', '']"
            ]
          },
          "metadata": {},
          "execution_count": 39
        }
      ]
    },
    {
      "cell_type": "code",
      "metadata": {
        "colab": {
          "base_uri": "https://localhost:8080/"
        },
        "id": "VmdoBfcWPb7_",
        "outputId": "48351aab-137c-4244-cff2-2a6413fb6821"
      },
      "source": [
        "re.findall('[a-z]?', 'the cat is on the mat')"
      ],
      "execution_count": null,
      "outputs": [
        {
          "output_type": "execute_result",
          "data": {
            "text/plain": [
              "['t',\n",
              " 'h',\n",
              " 'e',\n",
              " '',\n",
              " 'c',\n",
              " 'a',\n",
              " 't',\n",
              " '',\n",
              " 'i',\n",
              " 's',\n",
              " '',\n",
              " 'o',\n",
              " 'n',\n",
              " '',\n",
              " 't',\n",
              " 'h',\n",
              " 'e',\n",
              " '',\n",
              " 'm',\n",
              " 'a',\n",
              " 't',\n",
              " '']"
            ]
          },
          "metadata": {},
          "execution_count": 17
        }
      ]
    },
    {
      "cell_type": "code",
      "metadata": {
        "id": "3e-Uxjzl8-T0"
      },
      "source": [
        "text = '''Mission: successful\n",
        "Last Mission: unsuccessful\tTo be completed\n",
        "Next Mission: successful upon capture of target\n",
        "Mission: successful upon capture\n",
        "'''"
      ],
      "execution_count": null,
      "outputs": []
    },
    {
      "cell_type": "code",
      "metadata": {
        "colab": {
          "base_uri": "https://localhost:8080/"
        },
        "id": "zvmkYGdO9GOe",
        "outputId": "9fa36753-78ae-488c-e39c-04d4b0ed06f6"
      },
      "source": [
        "re.findall('^Mission: successful$', text, re.MULTILINE)"
      ],
      "execution_count": null,
      "outputs": [
        {
          "output_type": "execute_result",
          "data": {
            "text/plain": [
              "['Mission: successful']"
            ]
          },
          "metadata": {},
          "execution_count": 44
        }
      ]
    },
    {
      "cell_type": "markdown",
      "metadata": {
        "id": "9OPAvlbQPb8A"
      },
      "source": [
        "###### Lazy  and possessive/greedy matching\n",
        "\n",
        "Quantifiers are greedy by default. It means that they match the longest substring that matches the search they can find. In other words, they consume as many characters as possible. For example, we want to extract all substrings inside quotes from the string `'a \"witch\" and her \"broom\" is one'`. If we use the following pattern: `\".+\"`, we will get the following result:"
      ]
    },
    {
      "cell_type": "code",
      "metadata": {
        "colab": {
          "base_uri": "https://localhost:8080/"
        },
        "id": "SDIYk4LhPb8A",
        "outputId": "954c11da-9e56-4a03-ebd6-093d7cf985aa"
      },
      "source": [
        "s = 'a \"witch\" and her \"broom\" is one'\n",
        "re.findall('\".+\"', s)"
      ],
      "execution_count": null,
      "outputs": [
        {
          "output_type": "execute_result",
          "data": {
            "text/plain": [
              "['\"witch\" and her \"broom\"']"
            ]
          },
          "metadata": {},
          "execution_count": 47
        }
      ]
    },
    {
      "cell_type": "code",
      "metadata": {
        "colab": {
          "base_uri": "https://localhost:8080/"
        },
        "id": "pofvJAfjPb8B",
        "outputId": "ad2f604f-35a2-4650-c100-ed3502ffea6f"
      },
      "source": [
        "for i in re.finditer('\".+\"', s):\n",
        "    print(i)"
      ],
      "execution_count": null,
      "outputs": [
        {
          "output_type": "stream",
          "text": [
            "<re.Match object; span=(2, 25), match='\"witch\" and her \"broom\"'>\n"
          ],
          "name": "stdout"
        }
      ]
    },
    {
      "cell_type": "markdown",
      "metadata": {
        "id": "IwwY9I3tPb8B"
      },
      "source": [
        "Maximum number of symbols between the first quotation mark and the last quotation mark is 21. Our greedy matching got this substring instead of \"witch\" and \"broom\". In order to retrive shorter substrings we should make our quantifier to **non-greedy** (or **lazy**) by adding quotation mark '?'."
      ]
    },
    {
      "cell_type": "code",
      "metadata": {
        "colab": {
          "base_uri": "https://localhost:8080/"
        },
        "id": "uEy14IAgPb8C",
        "outputId": "577ccfe6-ad4f-4598-96f9-70d7d5b2dc6f"
      },
      "source": [
        "re.findall('\".+?\"', s)"
      ],
      "execution_count": null,
      "outputs": [
        {
          "output_type": "execute_result",
          "data": {
            "text/plain": [
              "['\"witch\"', '\"broom\"']"
            ]
          },
          "metadata": {},
          "execution_count": 20
        }
      ]
    },
    {
      "cell_type": "markdown",
      "metadata": {
        "id": "fY0qF4GTPb8C"
      },
      "source": [
        "This operation can be applied to all quantifiers.\n",
        "\n",
        "| Greedy quantifiers | Lazy quantifiers |\n",
        "| :--- | :--- |\n",
        "| \\* | \\*? |\n",
        "| + | +? |\n",
        "| {min, max} | {min, max}? |"
      ]
    },
    {
      "cell_type": "markdown",
      "metadata": {
        "id": "L0wjHIhaPb8C"
      },
      "source": [
        "###### Escape characters\n",
        "\n",
        "The usual metacharacters are `{}[]()^$.|*+?` and `\\`, however they do not have their literal character meaning. But what if we need to find such symbols in the text? For instance, we want to find all sentences, ending with quotation mark. The answer is as follows: we need to \"escape\" them, i.o.w. add __\\\\__ before such characters.\n",
        "\n",
        "Let us retrieve emojis from tweets:"
      ]
    },
    {
      "cell_type": "code",
      "metadata": {
        "colab": {
          "base_uri": "https://localhost:8080/"
        },
        "id": "0aVW5sg2Pb8D",
        "outputId": "f81df2a5-a956-4379-c3c9-aca6ec85689c"
      },
      "source": [
        "tweet = 'have a good day :)'\n",
        "re.findall('[:\\)\\(]+', tweet)"
      ],
      "execution_count": null,
      "outputs": [
        {
          "output_type": "execute_result",
          "data": {
            "text/plain": [
              "[':)']"
            ]
          },
          "metadata": {},
          "execution_count": 21
        }
      ]
    },
    {
      "cell_type": "markdown",
      "metadata": {
        "id": "MiEn3rusPb8D"
      },
      "source": [
        "Or punctuation marks: "
      ]
    },
    {
      "cell_type": "code",
      "metadata": {
        "colab": {
          "base_uri": "https://localhost:8080/"
        },
        "id": "sauawv-rPb8D",
        "outputId": "ad29735b-ab29-4426-bc4b-7d1e0f3cff0b"
      },
      "source": [
        "tweet = 'Дождь - это прекрасно, в дожде можно спрятать слезы...'\n",
        "re.findall('[\\-\\.!?:;,]|[.]+', tweet)"
      ],
      "execution_count": null,
      "outputs": [
        {
          "output_type": "execute_result",
          "data": {
            "text/plain": [
              "['-', ',', '.', '.', '.']"
            ]
          },
          "metadata": {},
          "execution_count": 22
        }
      ]
    },
    {
      "cell_type": "markdown",
      "metadata": {
        "id": "aGjpqZplPb8E"
      },
      "source": [
        "Here we used one more metacharacter: **|**  which means **or**."
      ]
    },
    {
      "cell_type": "code",
      "metadata": {
        "colab": {
          "base_uri": "https://localhost:8080/"
        },
        "id": "totWC6sYPb8E",
        "outputId": "2ed2d51f-9d70-469a-a0ac-134d7628a8cc"
      },
      "source": [
        "tweet = 'Дождь - это прекрасно, в дожде можно спрятать слезы...'\n",
        "re.findall('[.]+|[\\-\\.!?:;,]', tweet)"
      ],
      "execution_count": null,
      "outputs": [
        {
          "output_type": "execute_result",
          "data": {
            "text/plain": [
              "['-', ',', '...']"
            ]
          },
          "metadata": {},
          "execution_count": 23
        }
      ]
    },
    {
      "cell_type": "markdown",
      "metadata": {
        "id": "8keaANYPPb8F"
      },
      "source": [
        "Pay attention to the ellipsis (dot-dot-dot) in this example!\n",
        "\n",
        "Let us find formulae in the tweet:"
      ]
    },
    {
      "cell_type": "code",
      "metadata": {
        "colab": {
          "base_uri": "https://localhost:8080/"
        },
        "id": "1QwC7XymPb8F",
        "outputId": "6de67acf-a51a-4e31-a737-6a9060233007"
      },
      "source": [
        "tweet = 'Формула всем известная: (a+b)^2 = a^2 + 2*a*b + b^2'\n",
        "re.findall('[\\^\\+\\(\\)=\\-\\* 0-9a-z]{2,}', tweet)"
      ],
      "execution_count": null,
      "outputs": [
        {
          "output_type": "execute_result",
          "data": {
            "text/plain": [
              "[' (a+b)^2 = a^2 + 2*a*b + b^2']"
            ]
          },
          "metadata": {},
          "execution_count": 24
        }
      ]
    },
    {
      "cell_type": "markdown",
      "metadata": {
        "id": "bqKeeOSYPb8F"
      },
      "source": [
        "Question: how to escape backslash *\\\\*?"
      ]
    },
    {
      "cell_type": "code",
      "metadata": {
        "id": "m2NIQX26Pb8F"
      },
      "source": [
        "tweet = \"find \\ here\"\n",
        "\n",
        "#Your code here"
      ],
      "execution_count": null,
      "outputs": []
    },
    {
      "cell_type": "markdown",
      "metadata": {
        "id": "jhCMW2SUNX96"
      },
      "source": [
        "### re.sub()\n",
        "\n",
        "Return the string obtained by replacing the leftmost non-overlapping occurrences of pattern in string by the replacement repl. If the pattern isn’t found, string is returned unchanged. The method accapts three arguments:\n",
        "\n",
        "* what to substitute\n",
        "* on what to substitute\n",
        "* where substittute\n",
        "\n",
        "All matched subsrings are replaced."
      ]
    },
    {
      "cell_type": "code",
      "metadata": {
        "colab": {
          "base_uri": "https://localhost:8080/",
          "height": 35
        },
        "id": "SjF16uZINX97",
        "outputId": "cae1d62b-3a82-4900-cfe4-24567f442063"
      },
      "source": [
        "re.sub('the', 'my', 'the cat is on the mat')"
      ],
      "execution_count": null,
      "outputs": [
        {
          "output_type": "execute_result",
          "data": {
            "application/vnd.google.colaboratory.intrinsic+json": {
              "type": "string"
            },
            "text/plain": [
              "'my cat is on my mat'"
            ]
          },
          "metadata": {},
          "execution_count": 48
        }
      ]
    },
    {
      "cell_type": "markdown",
      "metadata": {
        "id": "YfEWhX0tPb8G"
      },
      "source": [
        "Here are a few more metacharacters in RegExp:\n",
        "\n",
        "* **\\t** — matches tabs\n",
        "* **\\s** — matches a whitespace character\n",
        "* **\\S** — matches anything but a whitespace\n",
        "* **\\n** — new line\n",
        "* **^** — start of line\n",
        "* **$** — end of line\n",
        "\n",
        "Let us delete extra spaces from the following text:"
      ]
    },
    {
      "cell_type": "code",
      "metadata": {
        "colab": {
          "base_uri": "https://localhost:8080/",
          "height": 35
        },
        "id": "7V1qMr5dPb8G",
        "outputId": "502fb1c2-0395-4d5f-84b0-6e17ded34bfe"
      },
      "source": [
        "s  = 'а  я иду,     шагаю   по   Москве '\n",
        "re.sub(' +', ' ', s)"
      ],
      "execution_count": null,
      "outputs": [
        {
          "output_type": "execute_result",
          "data": {
            "application/vnd.google.colaboratory.intrinsic+json": {
              "type": "string"
            },
            "text/plain": [
              "'а я иду, шагаю по Москве '"
            ]
          },
          "metadata": {},
          "execution_count": 49
        }
      ]
    },
    {
      "cell_type": "markdown",
      "metadata": {
        "id": "w_HGiqLBPb8H"
      },
      "source": [
        "Or let us bring an excerpt of the play to a readable form:"
      ]
    },
    {
      "cell_type": "code",
      "metadata": {
        "colab": {
          "base_uri": "https://localhost:8080/"
        },
        "id": "TxXYWSKRPb8H",
        "outputId": "788eb840-7acb-458a-f282-1b3da055fbe7"
      },
      "source": [
        "s = '''\n",
        "Дездемона: \n",
        "\n",
        "Кто здесь? Отелло, ты?\n",
        "\n",
        "Отелло: \n",
        "\n",
        "Я, Дездемона. \n",
        "\n",
        "Дездемона: \n",
        "\n",
        "Что ж не идешь ложиться ты, мой друг?\n",
        "\n",
        "Отелло:\n",
        "\n",
        "Молилась ли ты на ночь, Дездемона?\n",
        "\n",
        "Дездемона:\n",
        "\n",
        "Да, милый мой.\n",
        "\n",
        "'''\n",
        "print(s)"
      ],
      "execution_count": null,
      "outputs": [
        {
          "output_type": "stream",
          "text": [
            "\n",
            "Дездемона: \n",
            "\n",
            "Кто здесь? Отелло, ты?\n",
            "\n",
            "Отелло: \n",
            "\n",
            "Я, Дездемона. \n",
            "\n",
            "Дездемона: \n",
            "\n",
            "Что ж не идешь ложиться ты, мой друг?\n",
            "\n",
            "Отелло:\n",
            "\n",
            "Молилась ли ты на ночь, Дездемона?\n",
            "\n",
            "Дездемона:\n",
            "\n",
            "Да, милый мой.\n",
            "\n",
            "\n"
          ],
          "name": "stdout"
        }
      ]
    },
    {
      "cell_type": "code",
      "metadata": {
        "colab": {
          "base_uri": "https://localhost:8080/"
        },
        "id": "QzrOoKAJPb8H",
        "outputId": "46e4e374-a3cb-411b-b40f-936b867bbfeb"
      },
      "source": [
        "s = re.sub('\\n+', '\\n', s)\n",
        "print(s)"
      ],
      "execution_count": null,
      "outputs": [
        {
          "output_type": "stream",
          "text": [
            "\n",
            "Дездемона: \n",
            "Кто здесь? Отелло, ты?\n",
            "Отелло: \n",
            "Я, Дездемона. \n",
            "Дездемона: \n",
            "Что ж не идешь ложиться ты, мой друг?\n",
            "Отелло:\n",
            "Молилась ли ты на ночь, Дездемона?\n",
            "Дездемона:\n",
            "Да, милый мой.\n",
            "\n"
          ],
          "name": "stdout"
        }
      ]
    },
    {
      "cell_type": "code",
      "metadata": {
        "colab": {
          "base_uri": "https://localhost:8080/"
        },
        "id": "TIpqH2nTPb8I",
        "outputId": "5af3d5d3-6600-4a03-ae14-65177a4fd5cc"
      },
      "source": [
        "s = re.sub(':[ \\n]+', ': ', s)\n",
        "print(s)"
      ],
      "execution_count": null,
      "outputs": [
        {
          "output_type": "stream",
          "text": [
            "\n",
            "Дездемона: Кто здесь? Отелло, ты?\n",
            "Отелло: Я, Дездемона. \n",
            "Дездемона: Что ж не идешь ложиться ты, мой друг?\n",
            "Отелло: Молилась ли ты на ночь, Дездемона?\n",
            "Дездемона: Да, милый мой.\n",
            "\n"
          ],
          "name": "stdout"
        }
      ]
    },
    {
      "cell_type": "markdown",
      "metadata": {
        "id": "JMeHZr5gNX9-"
      },
      "source": [
        "###  re.compile()\n",
        "\n",
        "Compiles a regular expression pattern into a regular expression object, which can be used for all methods described above. Then ths object can be applied multiple times to different strings. Pros: we do not need to copy-paste patterns and program will work faster!"
      ]
    },
    {
      "cell_type": "code",
      "metadata": {
        "colab": {
          "base_uri": "https://localhost:8080/"
        },
        "id": "GyFyR5UANX9-",
        "outputId": "a5875fcd-45de-4b98-948f-7f5c3f18cdfb"
      },
      "source": [
        "# compile regexp to find cats\n",
        "cats = re.compile('cat')\n",
        "\n",
        "# now we can use this variable with any method\n",
        "# here we do not provide \"what to search/replace\" argument anymore \n",
        "print(cats.search('the cat is on the mat').group(0))\n",
        "print(cats.findall('my cat is black, my cat is fat, my cat likes rats, rats are gray and fat'))\n",
        "print(cats.sub('dog', 'the cat is on the mat'))"
      ],
      "execution_count": null,
      "outputs": [
        {
          "output_type": "stream",
          "text": [
            "cat\n",
            "['cat', 'cat', 'cat']\n",
            "the dog is on the mat\n"
          ],
          "name": "stdout"
        }
      ]
    },
    {
      "cell_type": "code",
      "metadata": {
        "colab": {
          "base_uri": "https://localhost:8080/"
        },
        "id": "GseDlsAN-8hg",
        "outputId": "3ae16cee-1b2a-47ac-cec5-724672e9d709"
      },
      "source": [
        "cats = re.compile('cat')\n",
        "texts = ['the cat is on the mat', 'the cat is on the mat', 'my cat is black, my cat is fat, my cat likes rats, rats are gray and fat']\n",
        "\n",
        "for text in texts:\n",
        "    print(cats.findall(text))"
      ],
      "execution_count": null,
      "outputs": [
        {
          "output_type": "stream",
          "name": "stdout",
          "text": [
            "['cat']\n",
            "['cat']\n",
            "['cat', 'cat', 'cat']\n"
          ]
        }
      ]
    },
    {
      "cell_type": "markdown",
      "metadata": {
        "id": "Zq471_6fNX-G"
      },
      "source": [
        "## You have the floor now!"
      ]
    },
    {
      "cell_type": "markdown",
      "metadata": {
        "id": "9XrvVO-wPb8J"
      },
      "source": [
        "Write a regexp to search for the different name of Søren Kierkegaard in Russian."
      ]
    },
    {
      "cell_type": "code",
      "metadata": {
        "id": "cB2pRcV-Pb8J"
      },
      "source": [
        "s = '''\n",
        "Киркегор - датский философ, богослов и писатель, один из предшественников экзистенциализма. \n",
        "С. Кьеркегор окончил теологический факультет Копенгагенского университета в 1840 году. \n",
        "Степень магистра получил в 1841 году, защитив диссертацию “О понятии иронии, с постоянным обращением к Сократу”, посвященную концепциям иронии у древнегреческих авторов и романтиков. \n",
        "Работы С. Кьеркегора отличаются исключительной психологической точностью и глубиной. \n",
        "Вклад в развистие философии, сделанный Кьеркегаардом. неоценим. \n",
        "Сёрен Киркегаард: немецкое издание Сёрена Киркегаарда. \n",
        "Спецкурс “С. Керкегор и история христианства в XIX в.” посвящен датскому философу Серену Керкегору. \n",
        "'''"
      ],
      "execution_count": null,
      "outputs": []
    },
    {
      "cell_type": "code",
      "metadata": {
        "colab": {
          "base_uri": "https://localhost:8080/"
        },
        "id": "cKd_tbafPb8J",
        "outputId": "875f0829-793a-4b36-ce17-029f76101d0e"
      },
      "source": [
        "philosopher = re.compile(r\"К[иеь]е*ркег.+?рд?\\w?\\w?\")\n",
        "res = philosopher.findall(s)\n",
        "res"
      ],
      "execution_count": null,
      "outputs": [
        {
          "output_type": "execute_result",
          "data": {
            "text/plain": [
              "['Киркегор',\n",
              " 'Кьеркегор',\n",
              " 'Кьеркегора',\n",
              " 'Кьеркегаардом',\n",
              " 'Киркегаард',\n",
              " 'Киркегаарда',\n",
              " 'Керкегор',\n",
              " 'Керкегору']"
            ]
          },
          "metadata": {},
          "execution_count": 64
        }
      ]
    },
    {
      "cell_type": "code",
      "metadata": {
        "colab": {
          "base_uri": "https://localhost:8080/"
        },
        "id": "hj5pEMt6Pb8K",
        "outputId": "256950a5-6710-4793-f71f-faf4add58491"
      },
      "source": [
        "len(res)"
      ],
      "execution_count": null,
      "outputs": [
        {
          "output_type": "execute_result",
          "data": {
            "text/plain": [
              "8"
            ]
          },
          "metadata": {},
          "execution_count": 65
        }
      ]
    },
    {
      "cell_type": "markdown",
      "metadata": {
        "id": "9wURuVeoPb8K"
      },
      "source": [
        "Write REgExps to search for emails and phone numbers:"
      ]
    },
    {
      "cell_type": "code",
      "metadata": {
        "id": "vX9RECkyPb8K"
      },
      "source": [
        "!wget --no-check-certificate 'https://docs.google.com/uc?export=download&id=1hcw1REIuEZRG-Qe234eFviR1nBNz9IkM' -O instructions.txt"
      ],
      "execution_count": null,
      "outputs": []
    },
    {
      "cell_type": "code",
      "metadata": {
        "colab": {
          "base_uri": "https://localhost:8080/"
        },
        "id": "6Sym5sKbPb8L",
        "outputId": "906032fd-0317-4966-aba9-2ae7e601938c"
      },
      "source": [
        "with open ('instructions.txt', 'r') as f:\n",
        "    text = f.read()\n",
        "    \n",
        "print(text)"
      ],
      "execution_count": null,
      "outputs": [
        {
          "output_type": "stream",
          "text": [
            "ИНСТРУКЦИЯ ПО ОФОРМЛЕНИЮ ЦИФРОВОГО ПРОПУСКА\n",
            "\n",
            "Технические вопросы\n",
            "Как заказать пропуск в Москву при условии, что на даче интернет работает плохо? При звонке по номеру телефона: +7 (495) 777-7777 приходится очень долго ждать.\n",
            "В связи с большим количеством звонков время ожидания по номеру телефона: 8-495-777-77-77 может достигать нескольких минут. Кроме того, вы можете воспользоваться возможностью получить пропуск по СМС на короткий номер 7377.\n",
            "\n",
            "Списываются ли деньги при отправке СМС для получения пропуска?\n",
            "Нет. За СМС средства не списывают. \n",
            "\n",
            "Что делать если сайт не доступен, а при звонке на телефон: 84957777777 сеть занята?\n",
            "Обратиться на почту по адресу gosuslugi@mail.ru\n",
            "\n",
            "\n",
            "Как заказать оформленный пропуск на электронную почту через СМС?\n",
            "Для этого нужно отправить цель получения пропуска (в кавычках) и через пробел почту, например,\n",
            "\"для поездок на работу\", golikova_t67@gmail.com\n",
            "\"для иных целей\", natysik@ya.ru\n",
            "\n",
            "По любым вопросам пишите на круглосуточную линию поддержки support24@mos.ru.\n"
          ],
          "name": "stdout"
        }
      ]
    },
    {
      "cell_type": "code",
      "metadata": {
        "id": "S3QBA403Pb8L",
        "outputId": "f9ac8b9c-1faa-45c0-8ead-1c1d75092804"
      },
      "source": [
        "mails = re.compile('Your regexp here for emails')\n",
        "mails.findall(text)"
      ],
      "execution_count": null,
      "outputs": [
        {
          "data": {
            "text/plain": [
              "['gosuslugi@mail.ru',\n",
              " 'golikova_t67@gmail.com',\n",
              " 'natysik@ya.ru',\n",
              " 'support24@mos.ru']"
            ]
          },
          "execution_count": 104,
          "metadata": {},
          "output_type": "execute_result"
        }
      ]
    },
    {
      "cell_type": "code",
      "metadata": {
        "id": "5glzvUV6Pb8L",
        "outputId": "a92071a3-d8dd-434b-f8de-d6b54001fa1c"
      },
      "source": [
        "phones = re.compile('Your regexp here for phone numbers')\n",
        "phones.findall(text)"
      ],
      "execution_count": null,
      "outputs": [
        {
          "data": {
            "text/plain": [
              "['+7 (495) 777-777', '8-495-777-77-77', '84957777777 ']"
            ]
          },
          "execution_count": 105,
          "metadata": {},
          "output_type": "execute_result"
        }
      ]
    },
    {
      "cell_type": "markdown",
      "metadata": {
        "id": "p-fRoeWbPb8M"
      },
      "source": [
        "### Result:\n",
        "\n",
        "We have learned how to use regular expressions for searching and substitutions in the text."
      ]
    }
  ]
}